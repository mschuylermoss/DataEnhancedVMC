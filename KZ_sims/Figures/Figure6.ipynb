{
 "cells": [
  {
   "cell_type": "code",
   "execution_count": 1,
   "id": "814f56ee",
   "metadata": {},
   "outputs": [],
   "source": [
    "delta_m1545 = -1.545\n",
    "delta_4455 = 4.455\n",
    "delta_4955 = 4.955\n",
    "delta_13455 = 13.455\n",
    "d_m1545 = '-1.545'\n",
    "d_4455 = '4.455'\n",
    "d_4955 = '4.955'\n",
    "d_13455 = '13.455'"
   ]
  },
  {
   "cell_type": "code",
   "execution_count": 2,
   "id": "0236c5b9",
   "metadata": {},
   "outputs": [],
   "source": [
    "import numpy as np\n",
    "import matplotlib.pylab as plt\n",
    "import pandas as pd\n",
    "import seaborn as sns"
   ]
  },
  {
   "cell_type": "code",
   "execution_count": 3,
   "id": "5bb6267f",
   "metadata": {},
   "outputs": [],
   "source": [
    "import sys\n",
    "sys.path.append('../../Main')\n",
    "from dset_helpers import load_KZ_QMC_uncorr_data_from_batches,data_given_param\n",
    "from stag_mag import calculate_stag_mag"
   ]
  },
  {
   "cell_type": "markdown",
   "id": "cd8171b5",
   "metadata": {},
   "source": [
    "# Load Data"
   ]
  },
  {
   "cell_type": "code",
   "execution_count": 8,
   "id": "568835f7",
   "metadata": {},
   "outputs": [
    {
     "name": "stdout",
     "output_type": "stream",
     "text": [
      "(1000, 256)\n"
     ]
    }
   ],
   "source": [
    "Exp_data = data_given_param(15,-1.545,16)\n",
    "shots = np.shape(Exp_data)[-1]\n",
    "Lx = 16\n",
    "Exp_data = np.reshape(Exp_data,(Lx**2,shots)).T\n",
    "print(np.shape(Exp_data))"
   ]
  },
  {
   "cell_type": "code",
   "execution_count": 7,
   "id": "7d8f4434",
   "metadata": {},
   "outputs": [],
   "source": [
    "df = pd.read_csv('./../../Data/QMC_Data/kz_qmc_samples/avg_observables.csv', sep=',')\n",
    "deltas = np.array(df[\"delta\"])\n",
    "energies = np.array(df[\"energy\"])\n",
    "e_errors = np.array(df[\"energy_error\"])\n",
    "chks = np.array(df[\"chk\"])\n",
    "chk_errors = np.array(df[\"chk_error\"])"
   ]
  },
  {
   "cell_type": "code",
   "execution_count": 9,
   "id": "2c9a009d",
   "metadata": {},
   "outputs": [
    {
     "name": "stdout",
     "output_type": "stream",
     "text": [
      "(1000, 256)\n"
     ]
    }
   ],
   "source": [
    "QMC_data = load_KZ_QMC_uncorr_data_from_batches(-1.545,1000)\n",
    "print(np.shape(QMC_data))"
   ]
  },
  {
   "cell_type": "markdown",
   "id": "ed166596",
   "metadata": {},
   "source": [
    "# Calclate Staggered Magnetization from Data"
   ]
  },
  {
   "cell_type": "code",
   "execution_count": 10,
   "id": "d3c67ffd",
   "metadata": {},
   "outputs": [],
   "source": [
    "Lx,Ly = 16,16"
   ]
  },
  {
   "cell_type": "code",
   "execution_count": 11,
   "id": "7c37a7d3",
   "metadata": {},
   "outputs": [],
   "source": [
    "QMC_data_stagmags = calculate_stag_mag(Lx,Ly,QMC_data)"
   ]
  },
  {
   "cell_type": "code",
   "execution_count": 12,
   "id": "be758bb6",
   "metadata": {},
   "outputs": [],
   "source": [
    "Exp_data_stagmags = calculate_stag_mag(Lx,Ly,Exp_data)"
   ]
  },
  {
   "cell_type": "code",
   "execution_count": 14,
   "id": "0c493b5e",
   "metadata": {},
   "outputs": [],
   "source": [
    "deltas = np.arange(-1.545,13.5,0.5)\n",
    "qmc_stagmags = []\n",
    "qmc_vars = []\n",
    "exp_stagmags = []\n",
    "all_all_exp_stagmags = np.zeros((1000,len(deltas)))\n",
    "exp_vars = []\n",
    "\n",
    "for i in range(len(deltas)):\n",
    "    delta = float(\"{:.3f}\".format(deltas[i]))\n",
    "    Exp_data = data_given_param(15,delta,Lx)\n",
    "    Exp_data = np.reshape(Exp_data,(Lx**2,1000)).T\n",
    "    all_exp_stagmags,_,Exp_data_stagmag,expvar = calculate_stag_mag(Lx,Ly,Exp_data)\n",
    "    exp_stagmags.append(Exp_data_stagmag)\n",
    "    exp_vars.append(expvar)\n",
    "    all_all_exp_stagmags[:,i] = all_exp_stagmags"
   ]
  },
  {
   "cell_type": "markdown",
   "id": "a280cd98",
   "metadata": {},
   "source": [
    "# Plot Stag Mags from Data & QMC Sims"
   ]
  },
  {
   "cell_type": "code",
   "execution_count": 16,
   "id": "b8480a1c",
   "metadata": {},
   "outputs": [
    {
     "data": {
      "image/png": "[encoded data removed]",
      "text/plain": [
       "<Figure size 600x300 with 1 Axes>"
      ]
     },
     "metadata": {},
     "output_type": "display_data"
    }
   ],
   "source": [
    "plt.rcParams.update({\"text.usetex\":True,\"font.family\": \"Helvetica\"})\n",
    "\n",
    "fig = plt.figure(1,figsize=(5,2.5), dpi=120, facecolor='w', edgecolor='k')\n",
    "plt.errorbar(deltas/4.24, chks, yerr=chk_errors, marker='H', markerfacecolor='C3', markeredgecolor='C3', markersize=5, linewidth=0.5, alpha=0.6, linestyle='None', color='C3',label=\"QMC\")\n",
    "plt.errorbar(deltas/4.24, exp_stagmags, yerr=np.sqrt(np.array(exp_vars))/np.sqrt(1000), marker='s', markerfacecolor='C1', markeredgecolor='C1', markersize=5, linewidth=0.6, alpha=0.6, linestyle='None', color='C1',label=\"Experimental Data\")\n",
    "\n",
    "plt.boxplot(abs(all_all_exp_stagmags),positions=deltas/4.24,showfliers = False,widths=0.11)\n",
    "plt.ylabel('$\\\\langle M_{s} \\\\rangle/N$',fontsize=20)\n",
    "plt.xlabel('$\\\\delta/\\\\Omega$',fontsize=20)\n",
    "plt.xticks(np.arange(-0.5,3.51,0.5),np.arange(-0.5,3.51,0.5))\n",
    "plt.xlim(-0.5,3.3)\n",
    "plt.legend(loc='center', bbox_to_anchor=(0.25, 0.85),fontsize=11)\n",
    "\n",
    "\n",
    "plt.show()"
   ]
  },
  {
   "cell_type": "code",
   "execution_count": null,
   "id": "163a3ede",
   "metadata": {},
   "outputs": [],
   "source": []
  }
 ],
 "metadata": {
  "kernelspec": {
   "display_name": "Python 3 (ipykernel)",
   "language": "python",
   "name": "python3"
  },
  "language_info": {
   "codemirror_mode": {
    "name": "ipython",
    "version": 3
   },
   "file_extension": ".py",
   "mimetype": "text/x-python",
   "name": "python",
   "nbconvert_exporter": "python",
   "pygments_lexer": "ipython3",
   "version": "3.9.12"
  }
 },
 "nbformat": 4,
 "nbformat_minor": 5
}
