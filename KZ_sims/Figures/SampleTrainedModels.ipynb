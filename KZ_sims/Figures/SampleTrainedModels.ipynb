{
 "cells": [
  {
   "cell_type": "code",
   "execution_count": 1,
   "id": "54b4ccad",
   "metadata": {},
   "outputs": [],
   "source": [
    "%load_ext autoreload\n",
    "%autoreload 2"
   ]
  },
  {
   "cell_type": "code",
   "execution_count": 2,
   "id": "977e7578",
   "metadata": {},
   "outputs": [],
   "source": [
    "import numpy as np"
   ]
  },
  {
   "cell_type": "code",
   "execution_count": 3,
   "id": "1bc2b82e",
   "metadata": {},
   "outputs": [
    {
     "name": "stderr",
     "output_type": "stream",
     "text": [
      "2023-07-18 12:39:24.841662: I tensorflow/core/platform/cpu_feature_guard.cc:193] This TensorFlow binary is optimized with oneAPI Deep Neural Network Library (oneDNN) to use the following CPU instructions in performance-critical operations:  AVX2 FMA\n",
      "To enable them in other operations, rebuild TensorFlow with the appropriate compiler flags.\n",
      "2023-07-18 12:39:27.795653: W tensorflow/compiler/xla/stream_executor/platform/default/dso_loader.cc:64] Could not load dynamic library 'libnvinfer.so.7'; dlerror: libnvinfer.so.7: cannot open shared object file: No such file or directory\n",
      "2023-07-18 12:39:27.797758: W tensorflow/compiler/xla/stream_executor/platform/default/dso_loader.cc:64] Could not load dynamic library 'libnvinfer_plugin.so.7'; dlerror: libnvinfer_plugin.so.7: cannot open shared object file: No such file or directory\n",
      "2023-07-18 12:39:27.797832: W tensorflow/compiler/tf2tensorrt/utils/py_utils.cc:38] TF-TRT Warning: Cannot dlopen some TensorRT libraries. If you would like to use Nvidia GPU with TensorRT, please make sure the missing libraries mentioned above are installed properly.\n"
     ]
    }
   ],
   "source": [
    "import tensorflow as tf\n",
    "import matplotlib.pylab as plt\n",
    "import time"
   ]
  },
  {
   "cell_type": "code",
   "execution_count": 4,
   "id": "3518c035",
   "metadata": {},
   "outputs": [],
   "source": [
    "import sys\n",
    "sys.path.append('../../Main/')"
   ]
  },
  {
   "cell_type": "code",
   "execution_count": 5,
   "id": "b7c35b8e",
   "metadata": {},
   "outputs": [],
   "source": [
    "from load_model import LoadModel\n",
    "from stag_mag import calculate_stag_mag"
   ]
  },
  {
   "cell_type": "code",
   "execution_count": 6,
   "id": "03dbf037",
   "metadata": {},
   "outputs": [],
   "source": [
    "scratch_path = '/scratch/msmoss/RNN_sims/Rydbergs/N_256/New_Results/'\n",
    "train_quantities_path = scratch_path + 'train_quantities/'"
   ]
  },
  {
   "cell_type": "code",
   "execution_count": 7,
   "id": "2728baea",
   "metadata": {},
   "outputs": [],
   "source": [
    "vmc1 = train_quantities_path + 'OneD_rnn/delta_13.455/seed_111/vmc_only/'\n",
    "vmc1ckpts = scratch_path + 'OneD_rnn/delta_13.455/seed_111/vmc_only/'"
   ]
  },
  {
   "cell_type": "code",
   "execution_count": 8,
   "id": "568e66b9",
   "metadata": {},
   "outputs": [
    {
     "name": "stderr",
     "output_type": "stream",
     "text": [
      "2023-07-18 12:39:35.138253: E tensorflow/compiler/xla/stream_executor/cuda/cuda_driver.cc:267] failed call to cuInit: CUDA_ERROR_NO_DEVICE: no CUDA-capable device is detected\n",
      "2023-07-18 12:39:35.138477: I tensorflow/compiler/xla/stream_executor/cuda/cuda_diagnostics.cc:156] kernel driver does not appear to be running on this host (gra615): /proc/driver/nvidia/version does not exist\n",
      "2023-07-18 12:39:35.140799: I tensorflow/core/platform/cpu_feature_guard.cc:193] This TensorFlow binary is optimized with oneAPI Deep Neural Network Library (oneDNN) to use the following CPU instructions in performance-critical operations:  AVX2 FMA\n",
      "To enable them in other operations, rebuild TensorFlow with the appropriate compiler flags.\n"
     ]
    },
    {
     "name": "stdout",
     "output_type": "stream",
     "text": [
      "Training a one-D RNN wave function with 32 hidden units and shared weights.\n",
      "The total number of parameters is 3522\n",
      "Checkpoint found.\n",
      "Restored from /scratch/msmoss/RNN_sims/Rydbergs/N_256/New_Results/OneD_rnn/delta_13.455/seed_111/vmc_only/ckpt-1000.\n",
      "The final step was 10000.\n",
      "WARNING:tensorflow:Detecting that an object or model or tf.train.Checkpoint is being deleted with unrestored values. See the following logs for the specific values in question. To silence these warnings, use `status.expect_partial()`. See https://www.tensorflow.org/api_docs/python/tf/train/Checkpoint#restorefor details about the status object returned by the restore function.\n",
      "WARNING:tensorflow:Value in checkpoint could not be found in the restored object: (root).optimizer.iter\n",
      "WARNING:tensorflow:Value in checkpoint could not be found in the restored object: (root).optimizer.beta_1\n",
      "WARNING:tensorflow:Value in checkpoint could not be found in the restored object: (root).optimizer.beta_2\n",
      "WARNING:tensorflow:Value in checkpoint could not be found in the restored object: (root).optimizer.decay\n",
      "WARNING:tensorflow:Value in checkpoint could not be found in the restored object: (root).optimizer.learning_rate\n",
      "WARNING:tensorflow:Value in checkpoint could not be found in the restored object: (root).optimizer's state 'm' for (root).variables.0\n",
      "WARNING:tensorflow:Value in checkpoint could not be found in the restored object: (root).optimizer's state 'm' for (root).variables.1\n",
      "WARNING:tensorflow:Value in checkpoint could not be found in the restored object: (root).optimizer's state 'm' for (root).variables.2\n",
      "WARNING:tensorflow:Value in checkpoint could not be found in the restored object: (root).optimizer's state 'm' for (root).variables.3\n",
      "WARNING:tensorflow:Value in checkpoint could not be found in the restored object: (root).optimizer's state 'm' for (root).variables.4\n",
      "WARNING:tensorflow:Value in checkpoint could not be found in the restored object: (root).optimizer's state 'v' for (root).variables.0\n",
      "WARNING:tensorflow:Value in checkpoint could not be found in the restored object: (root).optimizer's state 'v' for (root).variables.1\n",
      "WARNING:tensorflow:Value in checkpoint could not be found in the restored object: (root).optimizer's state 'v' for (root).variables.2\n",
      "WARNING:tensorflow:Value in checkpoint could not be found in the restored object: (root).optimizer's state 'v' for (root).variables.3\n",
      "WARNING:tensorflow:Value in checkpoint could not be found in the restored object: (root).optimizer's state 'v' for (root).variables.4\n",
      "358.5322756767273\n"
     ]
    }
   ],
   "source": [
    "start_time = time.time()\n",
    "mvmc1,evmc1,_,_ = LoadModel(vmc1,vmc1ckpts)\n",
    "elapsed_time = time.time() - start_time\n",
    "print(elapsed_time)"
   ]
  },
  {
   "cell_type": "code",
   "execution_count": 10,
   "id": "36362e3f",
   "metadata": {},
   "outputs": [
    {
     "data": {
      "image/png": "[encoded data removed]",
      "text/plain": [
       "<Figure size 640x480 with 1 Axes>"
      ]
     },
     "metadata": {},
     "output_type": "display_data"
    },
    {
     "name": "stdout",
     "output_type": "stream",
     "text": [
      "0.05078125\n"
     ]
    }
   ],
   "source": [
    "sample1,_ = mvmc1.sample(1) \n",
    "_,_,sm1,_ = calculate_stag_mag(16,16,sample1.numpy())\n",
    "sample1 = np.reshape(sample1.numpy(),(16,16))\n",
    "plt.imshow(sample1)\n",
    "plt.axis('off')\n",
    "plt.show()\n",
    "print(sm1)"
   ]
  },
  {
   "cell_type": "code",
   "execution_count": 11,
   "id": "3d663717",
   "metadata": {},
   "outputs": [],
   "source": [
    "vmc2 = train_quantities_path + 'TwoD_rnn/delta_13.455/seed_111/vmc_only/'\n",
    "vmc2ckpts = scratch_path + 'TwoD_rnn/delta_13.455/seed_111/vmc_only/'"
   ]
  },
  {
   "cell_type": "code",
   "execution_count": 12,
   "id": "a7e68f34",
   "metadata": {
    "scrolled": true
   },
   "outputs": [
    {
     "name": "stdout",
     "output_type": "stream",
     "text": [
      "Training a two-D RNN wave function with 16 hidden units and shared weights = True.\n",
      "The sum of params is 4674\n",
      "Checkpoint found.\n",
      "Restored from /scratch/msmoss/RNN_sims/Rydbergs/N_256/New_Results/TwoD_rnn/delta_13.455/seed_111/vmc_only/ckpt-1000.\n",
      "The final step was 10000.\n",
      "WARNING:tensorflow:Detecting that an object or model or tf.train.Checkpoint is being deleted with unrestored values. See the following logs for the specific values in question. To silence these warnings, use `status.expect_partial()`. See https://www.tensorflow.org/api_docs/python/tf/train/Checkpoint#restorefor details about the status object returned by the restore function.\n",
      "WARNING:tensorflow:Value in checkpoint could not be found in the restored object: (root).optimizer.iter\n",
      "WARNING:tensorflow:Value in checkpoint could not be found in the restored object: (root).optimizer.beta_1\n",
      "WARNING:tensorflow:Value in checkpoint could not be found in the restored object: (root).optimizer.beta_2\n",
      "WARNING:tensorflow:Value in checkpoint could not be found in the restored object: (root).optimizer.decay\n",
      "WARNING:tensorflow:Value in checkpoint could not be found in the restored object: (root).optimizer.learning_rate\n",
      "WARNING:tensorflow:Value in checkpoint could not be found in the restored object: (root).optimizer's state 'm' for (root).variables.0\n",
      "WARNING:tensorflow:Value in checkpoint could not be found in the restored object: (root).optimizer's state 'm' for (root).variables.1\n",
      "WARNING:tensorflow:Value in checkpoint could not be found in the restored object: (root).optimizer's state 'm' for (root).variables.2\n",
      "WARNING:tensorflow:Value in checkpoint could not be found in the restored object: (root).optimizer's state 'm' for (root).variables.3\n",
      "WARNING:tensorflow:Value in checkpoint could not be found in the restored object: (root).optimizer's state 'm' for (root).variables.4\n",
      "WARNING:tensorflow:Value in checkpoint could not be found in the restored object: (root).optimizer's state 'm' for (root).variables.5\n",
      "WARNING:tensorflow:Value in checkpoint could not be found in the restored object: (root).optimizer's state 'm' for (root).variables.6\n",
      "WARNING:tensorflow:Value in checkpoint could not be found in the restored object: (root).optimizer's state 'v' for (root).variables.0\n",
      "WARNING:tensorflow:Value in checkpoint could not be found in the restored object: (root).optimizer's state 'v' for (root).variables.1\n",
      "WARNING:tensorflow:Value in checkpoint could not be found in the restored object: (root).optimizer's state 'v' for (root).variables.2\n",
      "WARNING:tensorflow:Value in checkpoint could not be found in the restored object: (root).optimizer's state 'v' for (root).variables.3\n",
      "WARNING:tensorflow:Value in checkpoint could not be found in the restored object: (root).optimizer's state 'v' for (root).variables.4\n",
      "WARNING:tensorflow:Value in checkpoint could not be found in the restored object: (root).optimizer's state 'v' for (root).variables.5\n",
      "WARNING:tensorflow:Value in checkpoint could not be found in the restored object: (root).optimizer's state 'v' for (root).variables.6\n",
      "5.127925872802734\n"
     ]
    }
   ],
   "source": [
    "start_time = time.time()\n",
    "mvmc2,evmc2,_,_ = LoadModel(vmc2,vmc2ckpts)\n",
    "elapsed_time = time.time() - start_time\n",
    "print(elapsed_time)"
   ]
  },
  {
   "cell_type": "code",
   "execution_count": 13,
   "id": "b10f329a",
   "metadata": {},
   "outputs": [
    {
     "data": {
      "image/png": "[encoded data removed]",
      "text/plain": [
       "<Figure size 640x480 with 1 Axes>"
      ]
     },
     "metadata": {},
     "output_type": "display_data"
    },
    {
     "name": "stdout",
     "output_type": "stream",
     "text": [
      "0.453125\n"
     ]
    }
   ],
   "source": [
    "sample2,_ = mvmc2.sample(1) \n",
    "_,_,sm2,_ = calculate_stag_mag(16,16,sample2.numpy())\n",
    "sample2 = np.reshape(sample2.numpy(),(16,16))\n",
    "plt.imshow(sample2)\n",
    "plt.axis('off')\n",
    "plt.show()\n",
    "print(sm2)"
   ]
  },
  {
   "cell_type": "code",
   "execution_count": 14,
   "id": "f17c816d",
   "metadata": {},
   "outputs": [],
   "source": [
    "hybrid1 = train_quantities_path + 'OneD_rnn/delta_13.455/seed_111/hybrid_train/1000_ds/lr_5e-05/'\n",
    "hybrid1ckpts = scratch_path + 'OneD_rnn/delta_13.455/seed_111/hybrid_train/1000_ds/lr_5e-05/'"
   ]
  },
  {
   "cell_type": "code",
   "execution_count": null,
   "id": "00125c97",
   "metadata": {
    "scrolled": true
   },
   "outputs": [
    {
     "name": "stdout",
     "output_type": "stream",
     "text": [
      "Training a one-D RNN wave function with 32 hidden units and shared weights.\n"
     ]
    }
   ],
   "source": [
    "start_time = time.time()\n",
    "mh1,eh1,_,_ = LoadModel(hybrid1,hybrid1ckpts)\n",
    "elapsed_time = time.time() - start_time\n",
    "print(elapsed_time)"
   ]
  },
  {
   "cell_type": "code",
   "execution_count": 9,
   "id": "c6862282",
   "metadata": {},
   "outputs": [
    {
     "data": {
      "image/png": "[encoded data removed]",
      "text/plain": [
       "<Figure size 640x480 with 1 Axes>"
      ]
     },
     "metadata": {},
     "output_type": "display_data"
    },
    {
     "name": "stdout",
     "output_type": "stream",
     "text": [
      "0.41015625\n"
     ]
    }
   ],
   "source": [
    "sample1h,_ = mh1.sample(1) \n",
    "_,_,sm1h,_ = calculate_stag_mag(16,16,sample1h.numpy())\n",
    "sample1h = np.reshape(sample1h.numpy(),(16,16))\n",
    "plt.imshow(sample1h)\n",
    "plt.axis('off')\n",
    "plt.show()\n",
    "print(sm1h)"
   ]
  },
  {
   "cell_type": "code",
   "execution_count": 10,
   "id": "a57b4b6e",
   "metadata": {},
   "outputs": [],
   "source": [
    "hybrid2 = train_quantities_path + 'TwoD_rnn/delta_13.455/seed_111/hybrid_train/100_ds/lr_0.001/'\n",
    "hybrid2ckpts = scratch_path + 'TwoD_rnn/delta_13.455/seed_111/hybrid_train/100_ds/lr_0.001/'"
   ]
  },
  {
   "cell_type": "code",
   "execution_count": 11,
   "id": "533b1dec",
   "metadata": {
    "scrolled": true
   },
   "outputs": [
    {
     "name": "stdout",
     "output_type": "stream",
     "text": [
      "Training a two-D RNN wave function with 16 hidden units and shared weights = True.\n",
      "The sum of params is 4674\n",
      "Checkpoint found.\n",
      "Restored from /scratch/msmoss/RNN_sims/Rydbergs/N_256/New_Results/TwoD_rnn/delta_13.455/seed_111/hybrid_train/100_ds/lr_0.001/ckpt-1000.\n",
      "The final step was 10000.\n",
      "WARNING:tensorflow:Detecting that an object or model or tf.train.Checkpoint is being deleted with unrestored values. See the following logs for the specific values in question. To silence these warnings, use `status.expect_partial()`. See https://www.tensorflow.org/api_docs/python/tf/train/Checkpoint#restorefor details about the status object returned by the restore function.\n",
      "WARNING:tensorflow:Value in checkpoint could not be found in the restored object: (root).optimizer.iter\n",
      "WARNING:tensorflow:Value in checkpoint could not be found in the restored object: (root).optimizer.beta_1\n",
      "WARNING:tensorflow:Value in checkpoint could not be found in the restored object: (root).optimizer.beta_2\n",
      "WARNING:tensorflow:Value in checkpoint could not be found in the restored object: (root).optimizer.decay\n",
      "WARNING:tensorflow:Value in checkpoint could not be found in the restored object: (root).optimizer.learning_rate\n",
      "WARNING:tensorflow:Value in checkpoint could not be found in the restored object: (root).optimizer's state 'm' for (root).variables.0\n",
      "WARNING:tensorflow:Value in checkpoint could not be found in the restored object: (root).optimizer's state 'm' for (root).variables.1\n",
      "WARNING:tensorflow:Value in checkpoint could not be found in the restored object: (root).optimizer's state 'm' for (root).variables.2\n",
      "WARNING:tensorflow:Value in checkpoint could not be found in the restored object: (root).optimizer's state 'm' for (root).variables.3\n",
      "WARNING:tensorflow:Value in checkpoint could not be found in the restored object: (root).optimizer's state 'm' for (root).variables.4\n",
      "WARNING:tensorflow:Value in checkpoint could not be found in the restored object: (root).optimizer's state 'm' for (root).variables.5\n",
      "WARNING:tensorflow:Value in checkpoint could not be found in the restored object: (root).optimizer's state 'm' for (root).variables.6\n",
      "WARNING:tensorflow:Value in checkpoint could not be found in the restored object: (root).optimizer's state 'v' for (root).variables.0\n",
      "WARNING:tensorflow:Value in checkpoint could not be found in the restored object: (root).optimizer's state 'v' for (root).variables.1\n",
      "WARNING:tensorflow:Value in checkpoint could not be found in the restored object: (root).optimizer's state 'v' for (root).variables.2\n",
      "WARNING:tensorflow:Value in checkpoint could not be found in the restored object: (root).optimizer's state 'v' for (root).variables.3\n",
      "WARNING:tensorflow:Value in checkpoint could not be found in the restored object: (root).optimizer's state 'v' for (root).variables.4\n",
      "WARNING:tensorflow:Value in checkpoint could not be found in the restored object: (root).optimizer's state 'v' for (root).variables.5\n",
      "WARNING:tensorflow:Value in checkpoint could not be found in the restored object: (root).optimizer's state 'v' for (root).variables.6\n",
      "11.46331000328064\n"
     ]
    }
   ],
   "source": [
    "start_time = time.time()\n",
    "mh2,eh2,_,_ = LoadModel(hybrid2,hybrid2ckpts)\n",
    "elapsed_time = time.time() - start_time\n",
    "print(elapsed_time)"
   ]
  },
  {
   "cell_type": "code",
   "execution_count": 12,
   "id": "23157edd",
   "metadata": {},
   "outputs": [
    {
     "data": {
      "image/png": "[encoded data removed]",
      "text/plain": [
       "<Figure size 640x480 with 1 Axes>"
      ]
     },
     "metadata": {},
     "output_type": "display_data"
    },
    {
     "name": "stdout",
     "output_type": "stream",
     "text": [
      "0.44921875\n"
     ]
    }
   ],
   "source": [
    "sample2h,_ = mh2.sample(1) \n",
    "_,_,sm2h,_ = calculate_stag_mag(16,16,sample2h.numpy())\n",
    "sample2h = np.reshape(sample2h.numpy(),(16,16))\n",
    "plt.imshow(sample2h)\n",
    "plt.axis('off')\n",
    "plt.show()\n",
    "print(sm2h)"
   ]
  },
  {
   "cell_type": "code",
   "execution_count": null,
   "id": "dd0612a6",
   "metadata": {},
   "outputs": [],
   "source": []
  }
 ],
 "metadata": {
  "kernelspec": {
   "display_name": "Python 3 (ipykernel)",
   "language": "python",
   "name": "python3"
  },
  "language_info": {
   "codemirror_mode": {
    "name": "ipython",
    "version": 3
   },
   "file_extension": ".py",
   "mimetype": "text/x-python",
   "name": "python",
   "nbconvert_exporter": "python",
   "pygments_lexer": "ipython3",
   "version": "3.9.6"
  }
 },
 "nbformat": 4,
 "nbformat_minor": 5
}
