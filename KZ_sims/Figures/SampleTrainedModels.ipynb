{
 "cells": [
  {
   "cell_type": "code",
   "execution_count": 2,
   "id": "54b4ccad",
   "metadata": {},
   "outputs": [],
   "source": [
    "%load_ext autoreload\n",
    "%autoreload 2"
   ]
  },
  {
   "cell_type": "code",
   "execution_count": 3,
   "id": "977e7578",
   "metadata": {},
   "outputs": [],
   "source": [
    "import numpy as np"
   ]
  },
  {
   "cell_type": "code",
   "execution_count": 4,
   "id": "1bc2b82e",
   "metadata": {},
   "outputs": [],
   "source": [
    "import tensorflow as tf\n",
    "import matplotlib.pylab as plt\n",
    "import pandas as pd\n",
    "import seaborn as sns"
   ]
  },
  {
   "cell_type": "code",
   "execution_count": 5,
   "id": "8962c2a1",
   "metadata": {},
   "outputs": [],
   "source": [
    "import sys\n",
    "sys.path.append('../../Main/')"
   ]
  },
  {
   "cell_type": "code",
   "execution_count": 7,
   "id": "b7c35b8e",
   "metadata": {},
   "outputs": [],
   "source": [
    "from load_model import LoadModel\n",
    "from stag_mag import calculate_stag_mag"
   ]
  },
  {
   "cell_type": "code",
   "execution_count": 8,
   "id": "2728baea",
   "metadata": {},
   "outputs": [],
   "source": [
    "vmc1 = './data/Final_Models/train_quantities/OneD_rnn/delta_13.455/seed_111/vmc_only/'\n",
    "vmc1ckpts = './data/Final_Models/OneD_rnn/delta_13.455/seed_111/vmc_only/'"
   ]
  },
  {
   "cell_type": "code",
   "execution_count": 9,
   "id": "3d663717",
   "metadata": {},
   "outputs": [],
   "source": [
    "vmc2 = './data/Final_Models/train_quantities/TwoD_rnn/delta_13.455/seed_111/vmc_only/'\n",
    "vmc2ckpts = './data/Final_Models/TwoD_rnn/delta_13.455/seed_111/vmc_only/'"
   ]
  },
  {
   "cell_type": "code",
   "execution_count": 10,
   "id": "f17c816d",
   "metadata": {},
   "outputs": [],
   "source": [
    "hybrid1 = '../data/Final_Models/train_quantities/OneD_rnn/delta_13.455/seed_111/hybrid_train/1000_ds/lr_5e-05'\n",
    "hybrid1ckpts = '../data/Final_Models/OneD_rnn/delta_13.455/seed_111/hybrid_train/1000_ds/lr_5e-05'"
   ]
  },
  {
   "cell_type": "code",
   "execution_count": 12,
   "id": "a57b4b6e",
   "metadata": {},
   "outputs": [],
   "source": [
    "hybrid2 = '../data/Final_Models/train_quantities/TwoD_rnn/delta_13.455/seed_111/hybrid_train/100_ds/lr_0.001/'\n",
    "hybrid2ckpts = '../data/Final_Models/TwoD_rnn/delta_13.455/seed_111/hybrid_train/100_ds/lr_0.001/'"
   ]
  },
  {
   "cell_type": "code",
   "execution_count": null,
   "id": "533b1dec",
   "metadata": {},
   "outputs": [],
   "source": []
  }
 ],
 "metadata": {
  "kernelspec": {
   "display_name": "Python 3 (ipykernel)",
   "language": "python",
   "name": "python3"
  },
  "language_info": {
   "codemirror_mode": {
    "name": "ipython",
    "version": 3
   },
   "file_extension": ".py",
   "mimetype": "text/x-python",
   "name": "python",
   "nbconvert_exporter": "python",
   "pygments_lexer": "ipython3",
   "version": "3.9.12"
  }
 },
 "nbformat": 4,
 "nbformat_minor": 5
}
