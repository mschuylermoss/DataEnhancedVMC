{
 "cells": [
  {
   "cell_type": "code",
   "execution_count": 1,
   "id": "da5f2f37",
   "metadata": {},
   "outputs": [],
   "source": [
    "%load_ext autoreload\n",
    "%autoreload 2"
   ]
  },
  {
   "cell_type": "code",
   "execution_count": 7,
   "id": "f359336e",
   "metadata": {},
   "outputs": [],
   "source": [
    "import tensorflow as tf\n",
    "import matplotlib.pylab as plt\n",
    "import pandas as pd\n",
    "import seaborn as sns\n",
    "import numpy as np"
   ]
  },
  {
   "cell_type": "code",
   "execution_count": 3,
   "id": "a33a8336",
   "metadata": {},
   "outputs": [],
   "source": [
    "import sys\n",
    "sys.path.append('../../Main/')"
   ]
  },
  {
   "cell_type": "code",
   "execution_count": 5,
   "id": "1bbf9640",
   "metadata": {},
   "outputs": [],
   "source": [
    "from load_model import LoadModel\n",
    "from stag_mag import calculate_stag_mag\n",
    "from sigma_x import calculate_sigma_x"
   ]
  },
  {
   "cell_type": "code",
   "execution_count": 9,
   "id": "19de4662",
   "metadata": {},
   "outputs": [],
   "source": [
    "df = pd.read_csv('./../../Data/QMC_Data/kz_qmc_samples/avg_observables.csv', sep=',')\n",
    "deltas = np.array(df[\"delta\"])\n",
    "energies = np.array(df[\"energy\"])\n",
    "e_errors = np.array(df[\"energy_error\"])\n",
    "chks = np.array(df[\"chk\"])\n",
    "chk_errors = np.array(df[\"chk_error\"])"
   ]
  },
  {
   "cell_type": "code",
   "execution_count": null,
   "id": "08ca1ccd",
   "metadata": {},
   "outputs": [],
   "source": []
  },
  {
   "cell_type": "code",
   "execution_count": null,
   "id": "05eec589",
   "metadata": {},
   "outputs": [],
   "source": [
    "plt.rcParams.update({\"text.usetex\":True,\"font.family\": \"Helvetica\"})\n",
    "\n",
    "fig = plt.figure(1,figsize=(6,6), dpi=120, facecolor='w', edgecolor='k')\n",
    "grid = plt.GridSpec(2, 1, wspace=0.4, hspace=0)\n",
    "ax1 = fig.add_subplot(grid[0,0])\n",
    "ax2 = fig.add_subplot(grid[1,0],sharex=ax1)\n",
    "colors1 = sns.color_palette('pastel')\n",
    "colors2 = sns.color_palette('dark')\n",
    "d_o = deltas/4.24\n",
    "\n",
    "# stag mags\n",
    "ax1.errorbar(d_o, chks, yerr=chk_errors, marker='H', markerfacecolor='C3', markeredgecolor='C3', markersize=5, linewidth=0.5, alpha=0.6, linestyle='None', color='C3',label=\"QMC\")\n",
    "ax1.errorbar(d_o, load_stagmags2, yerr=np.sqrt(load_stagmags2_vars)/np.sqrt(10000), marker='o', markerfacecolor=colors2[0], markeredgecolor=colors2[0], markersize=5, linewidth=0.5, alpha=0.6, linestyle='None', color=colors2[0],label =\"VMC, 2D RNN\")\n",
    "ax1.errorbar(d_o, hybrid_stagmags2, yerr=np.sqrt(hybrid_stagmags2_vars)/np.sqrt(10000), marker='d', markerfacecolor=colors2[2], markeredgecolor=colors2[2], markersize=5, linewidth=0.5, alpha=0.6, linestyle='None', color=colors2[2],label =\"Hybrid, 2D RNN\")\n",
    "ax1.errorbar(d_o, load_stagmags1, yerr=np.sqrt(load_stagmags1_vars)/np.sqrt(10000), marker='o', markerfacecolor=colors1[0], markeredgecolor=colors1[0], markersize=5, linewidth=0.5, alpha=0.6, linestyle='None', color=colors1[0],label =\"VMC, 1D RNN\")\n",
    "ax1.errorbar(d_o, exp_data_stagmags, yerr=np.sqrt(exp_data_vars)/np.sqrt(1000), marker='s', markerfacecolor='C1', markeredgecolor='C1', markersize=5, linewidth=0.6, alpha=0.5, linestyle='None', color='C1',label=\"Experimental Data\")\n",
    "ax1.errorbar(d_o, hybrid_stagmags1, yerr=np.sqrt(hybrid_stagmags1_vars)/np.sqrt(10000), marker='d', markerfacecolor=colors1[2], markeredgecolor=colors1[2], markersize=5, linewidth=0.6, alpha=0.5, linestyle='None', color=colors1[2],label =\"Hybrid, 1D RNN\")\n",
    "ax1.vlines(4.765/4.24,0.001,0.45,linestyle='--',color='grey',alpha=0.75,label ='$\\\\delta_c/\\\\Omega$')\n",
    "ax1.set_ylabel('$\\\\langle M_{\\mathrm{s}} \\\\rangle/N$',fontsize=20)\n",
    "ax1.text(-1.05, 0.45, \"(a)\",fontsize=15)\n",
    "\n",
    "    \n",
    "# sigma x\n",
    "ax2.errorbar(d_o, load_sigxs2, yerr=np.sqrt(load_sigxs2_vars)/np.sqrt(10000), marker='o', markerfacecolor=colors2[0], markeredgecolor=colors2[0], markersize=5, linewidth=0.5, alpha=0.6, linestyle='None', color=colors2[0])\n",
    "ax2.errorbar(d_o, hybrid_sigxs2, yerr=np.sqrt(hybrid_sigxs2_vars)/np.sqrt(10000), marker='d', markerfacecolor=colors2[2], markeredgecolor=colors2[2], markersize=5, linewidth=0.6, alpha=0.5, linestyle='None', color=colors2[2])\n",
    "ax2.errorbar(d_o, load_sigxs1, yerr=np.sqrt(load_sigxs1_vars)/np.sqrt(10000), marker='o', markerfacecolor=colors1[0], markeredgecolor=colors1[0], markersize=5, linewidth=0.5, alpha=0.6, linestyle='None', color=colors1[0])\n",
    "ax2.errorbar(d_o, hybrid_sigxs, yerr=np.sqrt(hybrid_sigxs_vars)/np.sqrt(10000), marker='d', markerfacecolor=colors1[2], markeredgecolor=colors1[2], markersize=5, linewidth=0.6, alpha=0.5, linestyle='None', color=colors1[2])\n",
    "ax2.vlines(4.765/4.24,0.25,0.8,linestyle='--',color='grey',alpha=0.75)\n",
    "ax2.set_ylabel('$\\\\langle \\\\sigma_{\\mathrm{x}} \\\\rangle/N$',fontsize=20)\n",
    "ax2.set_ylim(0.2,0.85)\n",
    "ax2.text(-1.05, 0.78, \"(b)\",fontsize=15)\n",
    "\n",
    "fig.legend(loc='center', bbox_to_anchor=(0.28, 0.75))\n",
    "plt.xlabel('$ \\delta/\\\\Omega $',fontsize=20)\n",
    "plt.show()"
   ]
  },
  {
   "cell_type": "code",
   "execution_count": null,
   "id": "8cdddf01",
   "metadata": {},
   "outputs": [],
   "source": []
  },
  {
   "cell_type": "markdown",
   "id": "4c092484",
   "metadata": {},
   "source": [
    "# Calculate Stag Mags"
   ]
  },
  {
   "cell_type": "code",
   "execution_count": null,
   "id": "f9b47011",
   "metadata": {},
   "outputs": [],
   "source": []
  },
  {
   "cell_type": "code",
   "execution_count": null,
   "id": "e03b37dd",
   "metadata": {},
   "outputs": [],
   "source": []
  },
  {
   "cell_type": "markdown",
   "id": "fd337ea4",
   "metadata": {},
   "source": [
    "# Calculate Sig Xs"
   ]
  },
  {
   "cell_type": "code",
   "execution_count": null,
   "id": "9cd40401",
   "metadata": {},
   "outputs": [],
   "source": []
  },
  {
   "cell_type": "code",
   "execution_count": null,
   "id": "9772dd85",
   "metadata": {},
   "outputs": [],
   "source": []
  }
 ],
 "metadata": {
  "kernelspec": {
   "display_name": "Python 3 (ipykernel)",
   "language": "python",
   "name": "python3"
  },
  "language_info": {
   "codemirror_mode": {
    "name": "ipython",
    "version": 3
   },
   "file_extension": ".py",
   "mimetype": "text/x-python",
   "name": "python",
   "nbconvert_exporter": "python",
   "pygments_lexer": "ipython3",
   "version": "3.9.12"
  }
 },
 "nbformat": 4,
 "nbformat_minor": 5
}
